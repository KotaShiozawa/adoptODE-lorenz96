{
 "cells": [
  {
   "cell_type": "code",
   "execution_count": null,
   "metadata": {},
   "outputs": [],
   "source": [
    "%pip install xarray h5netcdf"
   ]
  },
  {
   "cell_type": "code",
   "execution_count": null,
   "metadata": {},
   "outputs": [],
   "source": [
    "import xarray as xr # xarray is like an extended pandas for (spatio-)temporal data\n",
    "import matplotlib.pyplot as plt"
   ]
  },
  {
   "cell_type": "code",
   "execution_count": null,
   "metadata": {},
   "outputs": [],
   "source": [
    "filename = 'results/every6/2024-07-15_21-07-38_data.h5'\n",
    "every6_dset = xr.open_dataset(filename, engine=\"h5netcdf\")\n",
    "# show the dataset. \n",
    "# This one is nice because you can click around and list all the data variables and attributes\n",
    "every6_dset"
   ]
  },
  {
   "cell_type": "code",
   "execution_count": null,
   "metadata": {},
   "outputs": [],
   "source": [
    "variable = 'x003'\n",
    "fig, axs = plt.subplots(3, 1, figsize=(10, 8))  # 2 rows, 1 column subplot\n",
    "\n",
    "# syntax: dataset.variable.sel(coordinate_name=coordinate_value).plot.line(...)\n",
    "every6_dset.true.sel(variable=variable).plot.line(ax=axs[0], x='time', hue='segment', color='black', lw=3, add_legend=False)\n",
    "every6_dset.estimated.sel(variable=variable).plot.line(ax=axs[0], x='time', hue='segment', add_legend=False)\n",
    "\n",
    "\n",
    "every6_dset.mse_true.plot(ax=axs[1])\n",
    "\n",
    "every6_dset.mse_measured.plot(ax=axs[2])\n",
    "\n",
    "# set xlims so that the segments are aligned\n",
    "axs[0].set_xlim([0, 1000])\n",
    "axs[1].set_xlim([-0.5, 9.5])\n",
    "axs[2].set_xlim([-0.5, 9.5])\n",
    "\n",
    "\n",
    "fig.tight_layout()\n"
   ]
  },
  {
   "cell_type": "code",
   "execution_count": null,
   "metadata": {},
   "outputs": [],
   "source": [
    "every6_dset.loss.plot(x='epoch', hue='segment', yscale='log')\n",
    "plt.show()"
   ]
  },
  {
   "cell_type": "code",
   "execution_count": null,
   "metadata": {},
   "outputs": [],
   "source": []
  }
 ],
 "metadata": {
  "kernelspec": {
   "display_name": ".venv",
   "language": "python",
   "name": "python3"
  },
  "language_info": {
   "codemirror_mode": {
    "name": "ipython",
    "version": 3
   },
   "file_extension": ".py",
   "mimetype": "text/x-python",
   "name": "python",
   "nbconvert_exporter": "python",
   "pygments_lexer": "ipython3",
   "version": "3.11.9"
  }
 },
 "nbformat": 4,
 "nbformat_minor": 2
}
